{
 "cells": [
  {
   "cell_type": "markdown",
   "id": "7a1433f4-98ae-48a2-941d-378aa8d9b7d4",
   "metadata": {},
   "source": [
    "## 1. Perceptron Supporting Code"
   ]
  },
  {
   "cell_type": "markdown",
   "id": "c9cc176f-9ba3-4241-a539-74a551c49137",
   "metadata": {},
   "source": [
    "## Preceptron Example 1 - Ts vs Js - Step Through Manually\n",
    "Manually walk through the training procedure of Figure 1.4"
   ]
  },
  {
   "cell_type": "code",
   "execution_count": 1,
   "id": "3a152510-aea8-4870-8f91-47e63a5bc66a",
   "metadata": {},
   "outputs": [],
   "source": [
    "import numpy as np\n",
    "import matplotlib.pyplot as plt"
   ]
  },
  {
   "cell_type": "code",
   "execution_count": 2,
   "id": "123d1934-362d-4bec-a50f-090d6e4f8c86",
   "metadata": {},
   "outputs": [],
   "source": [
    "#Manually Code up examples\n",
    "examples=np.array([[[1,1,1,-1], #T Shifted Left\n",
    "                    [-1,1,-1,-1],\n",
    "                    [-1,1,-1,-1],\n",
    "                    [-1,1,-1,-1]],\n",
    "                   [[-1,1,1,1], #T Shifted Right\n",
    "                    [-1,-1,1,-1],\n",
    "                    [-1,-1,1,-1],\n",
    "                    [-1,-1,1,-1]],\n",
    "                   [[-1,-1,1,-1], #J Shifted Left\n",
    "                    [-1,-1,1,-1],\n",
    "                    [1,-1,1,-1],\n",
    "                    [1,1,1,-1]],\n",
    "                   [[-1,-1,-1,1], #J Shifted Right\n",
    "                    [-1,-1,-1,1],\n",
    "                    [-1,1,-1,1],\n",
    "                    [-1,1,1,1]]])"
   ]
  },
  {
   "cell_type": "code",
   "execution_count": 3,
   "id": "53e7840f-af21-4a06-96eb-bf01706569d4",
   "metadata": {},
   "outputs": [
    {
     "data": {
      "image/png": "[encoded data removed]",
      "text/plain": [
       "<Figure size 600x600 with 4 Axes>"
      ]
     },
     "metadata": {},
     "output_type": "display_data"
    }
   ],
   "source": [
    "fig=plt.figure(0,(6,6))\n",
    "for i in range(len(examples)):\n",
    "    fig.add_subplot(2,2,i+1)\n",
    "    plt.imshow(examples[i])"
   ]
  },
  {
   "cell_type": "code",
   "execution_count": 4,
   "id": "73daf3df-7940-4f6f-a717-d388394313e9",
   "metadata": {},
   "outputs": [],
   "source": [
    "# Setup labels - we want our machine to output positive voltage to T shapes, \n",
    "# our first 2 examples are Ts - so we'll set these values to +1, our second to \n",
    "# examples are Js - so we'll set these to -1s\n",
    "y=np.array([1,1,-1,-1])\n",
    "\n",
    "# Reshape each example into a row, and add a 17th column for the bias term\n",
    "# Bias term is a like a switch that is \"always on\" - it's an extra parameter that doesn't depend on our input and helps our model learn. \n",
    "X=np.hstack((examples.reshape(-1, 16), np.ones((len(y),1)))) "
   ]
  },
  {
   "cell_type": "code",
   "execution_count": 5,
   "id": "b39de133-06a9-427b-b7b3-3602cc34dabc",
   "metadata": {},
   "outputs": [
    {
     "data": {
      "text/plain": [
       "((4, 17), (4,))"
      ]
     },
     "execution_count": 5,
     "metadata": {},
     "output_type": "execute_result"
    }
   ],
   "source": [
    "X.shape, y.shape"
   ]
  },
  {
   "cell_type": "code",
   "execution_count": 6,
   "id": "6ecd76e4-fbda-40ee-9f66-6f130c8a6a52",
   "metadata": {},
   "outputs": [
    {
     "data": {
      "text/plain": [
       "array([[ 1.,  1.,  1., -1., -1.,  1., -1., -1., -1.,  1., -1., -1., -1.,\n",
       "         1., -1., -1.,  1.],\n",
       "       [-1.,  1.,  1.,  1., -1., -1.,  1., -1., -1., -1.,  1., -1., -1.,\n",
       "        -1.,  1., -1.,  1.],\n",
       "       [-1., -1.,  1., -1., -1., -1.,  1., -1.,  1., -1.,  1., -1.,  1.,\n",
       "         1.,  1., -1.,  1.],\n",
       "       [-1., -1., -1.,  1., -1., -1., -1.,  1., -1.,  1., -1.,  1., -1.,\n",
       "         1.,  1.,  1.,  1.]])"
      ]
     },
     "execution_count": 6,
     "metadata": {},
     "output_type": "execute_result"
    }
   ],
   "source": [
    "X #1 row for each example"
   ]
  },
  {
   "cell_type": "code",
   "execution_count": 7,
   "id": "bcfaf5f0-a815-4714-8fc7-72fb0092235a",
   "metadata": {},
   "outputs": [],
   "source": [
    "#Initialized weights to zeros, this is equivalent to turning each knob to 12 o'clock\n",
    "w = np.zeros(17)\n",
    "lr=1.0 #Learning rate"
   ]
  },
  {
   "cell_type": "code",
   "execution_count": 8,
   "id": "13e7139e-f2a6-4625-a382-8c2a9468e022",
   "metadata": {},
   "outputs": [],
   "source": [
    "i=1 #Start with index 1, converges a little faster than starting at index 0\n",
    "yhat=np.dot(X[i],w) #Compute perceptron output by taking dot product of example X and weights."
   ]
  },
  {
   "cell_type": "code",
   "execution_count": 9,
   "id": "0f1a98ec-6009-4cae-9273-0dc57d555145",
   "metadata": {},
   "outputs": [
    {
     "data": {
      "text/plain": [
       "(0.0, 1)"
      ]
     },
     "execution_count": 9,
     "metadata": {},
     "output_type": "execute_result"
    }
   ],
   "source": [
    "yhat, y[i] #machine outputs 0, but we want it to output +1"
   ]
  },
  {
   "cell_type": "code",
   "execution_count": 10,
   "id": "bd8f58ea-e269-4377-962d-32c2e76d9fe0",
   "metadata": {},
   "outputs": [],
   "source": [
    "# Update weight following perceptron learning rule\n",
    "# adding our learning rate times our example is equivalent \n",
    "# to turning up all our dials that are switched on, and turning \n",
    "# down all our dails that are switched off\n",
    "w=w+lr*X[i]"
   ]
  },
  {
   "cell_type": "code",
   "execution_count": 11,
   "id": "d2af26d0-c65d-4123-9604-6eab76031115",
   "metadata": {},
   "outputs": [
    {
     "data": {
      "text/plain": [
       "array([[-1.,  1.,  1.,  1.],\n",
       "       [-1., -1.,  1., -1.],\n",
       "       [-1., -1.,  1., -1.],\n",
       "       [-1., -1.,  1., -1.]])"
      ]
     },
     "execution_count": 11,
     "metadata": {},
     "output_type": "execute_result"
    }
   ],
   "source": [
    "#By adding our learning rate times our example now makes our weights look just like our first example.\n",
    "w[:16].reshape(4,4)"
   ]
  },
  {
   "cell_type": "code",
   "execution_count": 12,
   "id": "c59e603f-05cf-4add-bba8-c985ddf5cbc8",
   "metadata": {},
   "outputs": [
    {
     "data": {
      "text/plain": [
       "2"
      ]
     },
     "execution_count": 12,
     "metadata": {},
     "output_type": "execute_result"
    }
   ],
   "source": [
    "i+=1 #Increment our counter i\n",
    "i"
   ]
  },
  {
   "cell_type": "code",
   "execution_count": 13,
   "id": "4b20309e-9631-490f-94cf-57afac51b3bc",
   "metadata": {},
   "outputs": [],
   "source": [
    "yhat=np.dot(X[i],w) #Compute perceptron output"
   ]
  },
  {
   "cell_type": "code",
   "execution_count": 14,
   "id": "e3705c20-cdb9-4cf5-826c-9bbee1967d89",
   "metadata": {},
   "outputs": [
    {
     "data": {
      "text/plain": [
       "(7.0, -1)"
      ]
     },
     "execution_count": 14,
     "metadata": {},
     "output_type": "execute_result"
    }
   ],
   "source": [
    "yhat, y[i] #machine outputs +, but we want it to output -"
   ]
  },
  {
   "cell_type": "code",
   "execution_count": 15,
   "id": "0c5fd35e-07f1-4e70-a73a-227d3710931d",
   "metadata": {},
   "outputs": [],
   "source": [
    "w=w-lr*X[i] #Machine output a +, but we wanted -, so subract learning rate time examples"
   ]
  },
  {
   "cell_type": "code",
   "execution_count": 16,
   "id": "2f167105-2e72-4512-b7a3-f0a9003bb6a3",
   "metadata": {},
   "outputs": [
    {
     "data": {
      "text/plain": [
       "array([[ 0.,  2.,  0.,  2.],\n",
       "       [ 0.,  0.,  0.,  0.],\n",
       "       [-2.,  0.,  0.,  0.],\n",
       "       [-2., -2.,  0.,  0.]])"
      ]
     },
     "execution_count": 16,
     "metadata": {},
     "output_type": "execute_result"
    }
   ],
   "source": [
    "w[:16].reshape(4,4)"
   ]
  },
  {
   "cell_type": "code",
   "execution_count": 17,
   "id": "005cfc9f-d295-4bac-a7a0-f1fd15a5be6d",
   "metadata": {},
   "outputs": [
    {
     "data": {
      "text/plain": [
       "3"
      ]
     },
     "execution_count": 17,
     "metadata": {},
     "output_type": "execute_result"
    }
   ],
   "source": [
    "i+=1 #Increment our counter i\n",
    "i"
   ]
  },
  {
   "cell_type": "code",
   "execution_count": 18,
   "id": "d9cd1d84-35a8-4f30-b263-44c5d0450f3c",
   "metadata": {},
   "outputs": [],
   "source": [
    "yhat=np.dot(X[i],w) #Compute perceptron output"
   ]
  },
  {
   "cell_type": "code",
   "execution_count": 19,
   "id": "d892d776-2cad-4abf-9696-107a9289549d",
   "metadata": {},
   "outputs": [
    {
     "data": {
      "text/plain": [
       "(2.0, -1)"
      ]
     },
     "execution_count": 19,
     "metadata": {},
     "output_type": "execute_result"
    }
   ],
   "source": [
    "yhat, y[i] #machine outputs +, but we want it to output -"
   ]
  },
  {
   "cell_type": "code",
   "execution_count": 20,
   "id": "e1d74f89-5b01-48be-b138-f86a1d4783df",
   "metadata": {},
   "outputs": [],
   "source": [
    "w=w-lr*X[i] #Machine output a +, but we wanted -, so subract learning rate time examples"
   ]
  },
  {
   "cell_type": "code",
   "execution_count": 21,
   "id": "81da8a67-512a-4b8a-8465-2de2c12e2126",
   "metadata": {},
   "outputs": [
    {
     "data": {
      "text/plain": [
       "array([[ 1.,  3.,  1.,  1.],\n",
       "       [ 1.,  1.,  1., -1.],\n",
       "       [-1., -1.,  1., -1.],\n",
       "       [-1., -3., -1., -1.]])"
      ]
     },
     "execution_count": 21,
     "metadata": {},
     "output_type": "execute_result"
    }
   ],
   "source": [
    "w[:16].reshape(4,4)"
   ]
  },
  {
   "cell_type": "code",
   "execution_count": 22,
   "id": "7f9dbc0e-a93c-47ee-ba10-b4ba78c6b310",
   "metadata": {},
   "outputs": [],
   "source": [
    "i=0 #We've reached the end our our examples (index 3, so start over)"
   ]
  },
  {
   "cell_type": "code",
   "execution_count": 23,
   "id": "da5c2bd6-8fe6-4bc9-a12e-5e579f82b73c",
   "metadata": {},
   "outputs": [],
   "source": [
    "yhat=np.dot(X[i],w) #Compute perceptron output"
   ]
  },
  {
   "cell_type": "code",
   "execution_count": 24,
   "id": "c2295fcd-84b6-4f19-992f-caeaeb3974be",
   "metadata": {},
   "outputs": [
    {
     "data": {
      "text/plain": [
       "(3.0, 1)"
      ]
     },
     "execution_count": 24,
     "metadata": {},
     "output_type": "execute_result"
    }
   ],
   "source": [
    "yhat, y[i] #machine outputs +, and we want a +, so do not update weights. "
   ]
  },
  {
   "cell_type": "code",
   "execution_count": 25,
   "id": "0130b381-8b78-492b-add3-e66510f06b66",
   "metadata": {},
   "outputs": [
    {
     "name": "stdout",
     "output_type": "stream",
     "text": [
      "3.0 1\n",
      "11.0 1\n",
      "-7.0 -1\n",
      "-15.0 -1\n"
     ]
    }
   ],
   "source": [
    "#Cycle back through examples, print machine output and target output for each\n",
    "for i in range(4):\n",
    "    yhat=np.dot(X[i],w) #Compute perceptron output\n",
    "    print(yhat, y[i])"
   ]
  },
  {
   "cell_type": "markdown",
   "id": "e5afd736-bbed-44b3-b3d5-edc75803c8c3",
   "metadata": {},
   "source": [
    "Signs match in each case! Our perceptron is correctly classifying all examples. "
   ]
  },
  {
   "cell_type": "markdown",
   "id": "987857fd-463d-401c-8953-c145f4e407b0",
   "metadata": {},
   "source": [
    "## Example 2 - Ts vs Js - Step through in automated loop"
   ]
  },
  {
   "cell_type": "code",
   "execution_count": 26,
   "id": "3753a8dc-a3ad-40cc-a458-19321317a7d6",
   "metadata": {},
   "outputs": [],
   "source": [
    "#Manually Code up examples\n",
    "examples=np.array([[[1,1,1,-1], #T Shifted Left\n",
    "                    [-1,1,-1,-1],\n",
    "                    [-1,1,-1,-1],\n",
    "                    [-1,1,-1,-1]],\n",
    "                   [[-1,1,1,1], #T Shifted Right\n",
    "                    [-1,-1,1,-1],\n",
    "                    [-1,-1,1,-1],\n",
    "                    [-1,-1,1,-1]],\n",
    "                   [[-1,-1,1,-1], #J Shifted Left\n",
    "                    [-1,-1,1,-1],\n",
    "                    [1,-1,1,-1],\n",
    "                    [1,1,1,-1]],\n",
    "                   [[-1,-1,-1,1], #J Shifted Right\n",
    "                    [-1,-1,-1,1],\n",
    "                    [-1,1,-1,1],\n",
    "                    [-1,1,1,1]]])"
   ]
  },
  {
   "cell_type": "code",
   "execution_count": 27,
   "id": "c4eee9a7-f426-471d-bbf0-2a45fb44cefe",
   "metadata": {},
   "outputs": [
    {
     "data": {
      "image/png": "[encoded data removed]",
      "text/plain": [
       "<Figure size 600x600 with 4 Axes>"
      ]
     },
     "metadata": {},
     "output_type": "display_data"
    }
   ],
   "source": [
    "fig=plt.figure(0,(6,6))\n",
    "for i in range(len(examples)):\n",
    "    fig.add_subplot(2,2,i+1)\n",
    "    plt.imshow(examples[i])"
   ]
  },
  {
   "cell_type": "code",
   "execution_count": 28,
   "id": "6ee47cd0-7a3d-452b-a1dc-062fafb8fc3d",
   "metadata": {},
   "outputs": [],
   "source": [
    "# Setup labels - we want our machine to output positive voltage to T shapes, \n",
    "# our first 2 examples are Ts - so we'll set these values to +1, our second to \n",
    "# examples are Js - so we'll set these to -1s\n",
    "y=np.array([1,1,-1,-1])\n",
    "\n",
    "#Reshape each example into a row, and add a 17th column for the bias term\n",
    "X=np.hstack((examples.reshape(-1, 16), np.ones((len(y),1)))) \n",
    "\n",
    "#Initialized weights to zeros, this is equivalent to turning each knob to 12 o'clock\n",
    "w = np.zeros(17)\n",
    "lr=1.0 #Learning rate"
   ]
  },
  {
   "cell_type": "code",
   "execution_count": 29,
   "id": "67896aa2-0d69-43fc-b79b-b88c28b6cba9",
   "metadata": {},
   "outputs": [
    {
     "name": "stdout",
     "output_type": "stream",
     "text": [
      "output is 0.0 but we want it to be 1, updating weights.\n",
      "output is 7.0 but we want it to be -1, updating weights.\n",
      "output is 2.0 but we want it to be -1, updating weights.\n",
      "output is 3.0, which has the same sign as our target 1, machine is correct, not updating weights.\n",
      "output is 11.0, which has the same sign as our target 1, machine is correct, not updating weights.\n",
      "output is -7.0, which has the same sign as our target -1, machine is correct, not updating weights.\n",
      "output is -15.0, which has the same sign as our target -1, machine is correct, not updating weights.\n",
      "output is 3.0, which has the same sign as our target 1, machine is correct, not updating weights.\n",
      "output is 11.0, which has the same sign as our target 1, machine is correct, not updating weights.\n"
     ]
    }
   ],
   "source": [
    "for i in range(1,10):\n",
    "    yhat=np.dot(X[i%len(y)],w) \n",
    "    if yhat<=0 and y[i%len(y)]>0: \n",
    "        print(f\"output is {yhat} but we want it to be {y[i%len(y)]}, updating weights.\")\n",
    "        w=w+lr*X[i%len(y)] \n",
    "    elif yhat>0 and y[i%len(y)]<=0: \n",
    "        print(f\"output is {yhat} but we want it to be {y[i%len(y)]}, updating weights.\")\n",
    "        w=w-lr*X[i%len(y)] \n",
    "    else: \n",
    "        print(f\"output is {yhat}, which has the same sign as our target {y[i%len(y)]}, machine is correct, not updating weights.\")"
   ]
  },
  {
   "cell_type": "markdown",
   "id": "4cfb79e5-0661-46d3-8d9f-88364baf8780",
   "metadata": {},
   "source": [
    "## Example 3 - Two input perceptron - solvable case. \n",
    "Replicates Results of Figure 1.10, Task 1"
   ]
  },
  {
   "cell_type": "code",
   "execution_count": 30,
   "id": "53111d11-b228-4385-aee4-7c46e4221a83",
   "metadata": {},
   "outputs": [],
   "source": [
    "examples=np.array([[[-1,-1]],\n",
    "             [[-1,1]],\n",
    "             [[1,-1]],\n",
    "             [[1,1]]])\n",
    "\n",
    "y=np.array([-1,1,1,1]) #we want our machine to output a + when either or bothe switches are on\n",
    "\n",
    "#Reshape each example into a row, and add a 3rd column for the bias term\n",
    "X=np.hstack((examples.reshape(-1, 2), np.ones((len(y),1)))) \n",
    "\n",
    "#Initialized weights to zeros, this is equivalent to turning each knob to 12 o'clock\n",
    "w = np.zeros(3)\n",
    "lr=1.0 #Learning rate"
   ]
  },
  {
   "cell_type": "code",
   "execution_count": 31,
   "id": "6d0b5d21-8929-4ab3-8c57-5d1f371ddbf8",
   "metadata": {},
   "outputs": [
    {
     "data": {
      "text/plain": [
       "array([[-1., -1.,  1.],\n",
       "       [-1.,  1.,  1.],\n",
       "       [ 1., -1.,  1.],\n",
       "       [ 1.,  1.,  1.]])"
      ]
     },
     "execution_count": 31,
     "metadata": {},
     "output_type": "execute_result"
    }
   ],
   "source": [
    "X"
   ]
  },
  {
   "cell_type": "code",
   "execution_count": 32,
   "id": "795a85d6-8ec7-44ea-837b-bb7bd1db9e28",
   "metadata": {},
   "outputs": [
    {
     "data": {
      "text/plain": [
       "array([0., 0., 0.])"
      ]
     },
     "execution_count": 32,
     "metadata": {},
     "output_type": "execute_result"
    }
   ],
   "source": [
    "w"
   ]
  },
  {
   "cell_type": "code",
   "execution_count": 33,
   "id": "666da94c-f61c-446e-b4db-d1c67e400de6",
   "metadata": {},
   "outputs": [
    {
     "name": "stdout",
     "output_type": "stream",
     "text": [
      "step: 1, current example: [-1.  1.], current weights = [0. 0. 0.]\n",
      "output is 0.0 but we want it to be 1, updating weights.\n",
      "step: 2, current example: [ 1. -1.], current weights = [-1.  1.  1.]\n",
      "output is -1.0 but we want it to be 1, updating weights.\n",
      "step: 3, current example: [1. 1.], current weights = [0. 0. 2.]\n",
      "output is 2.0, which has the same sign as our target 1, machine is correct, not updating weights.\n",
      "step: 4, current example: [-1. -1.], current weights = [0. 0. 2.]\n",
      "output is 2.0 but we want it to be -1, updating weights.\n",
      "step: 5, current example: [-1.  1.], current weights = [1. 1. 1.]\n",
      "output is 1.0, which has the same sign as our target 1, machine is correct, not updating weights.\n",
      "step: 6, current example: [ 1. -1.], current weights = [1. 1. 1.]\n",
      "output is 1.0, which has the same sign as our target 1, machine is correct, not updating weights.\n",
      "step: 7, current example: [1. 1.], current weights = [1. 1. 1.]\n",
      "output is 3.0, which has the same sign as our target 1, machine is correct, not updating weights.\n",
      "step: 8, current example: [-1. -1.], current weights = [1. 1. 1.]\n",
      "output is -1.0, which has the same sign as our target -1, machine is correct, not updating weights.\n",
      "step: 9, current example: [-1.  1.], current weights = [1. 1. 1.]\n",
      "output is 1.0, which has the same sign as our target 1, machine is correct, not updating weights.\n",
      "step: 10, current example: [ 1. -1.], current weights = [1. 1. 1.]\n",
      "output is 1.0, which has the same sign as our target 1, machine is correct, not updating weights.\n",
      "step: 11, current example: [1. 1.], current weights = [1. 1. 1.]\n",
      "output is 3.0, which has the same sign as our target 1, machine is correct, not updating weights.\n"
     ]
    }
   ],
   "source": [
    "for i in range(1, 12): #Starting at index 1, we could also start at index 0, results are a little more clear this way.\n",
    "    yhat=np.dot(X[i%len(y)],w) \n",
    "    print(f\"step: {i}, current example: {X[i%len(y)][:2]}, current weights = {w}\")\n",
    "    if yhat<=0 and y[i%len(y)]>0: \n",
    "        print(f\"output is {yhat} but we want it to be {y[i%len(y)]}, updating weights.\")\n",
    "        w=w+lr*X[i%len(y)] \n",
    "    elif yhat>0 and y[i%len(y)]<=0: \n",
    "        print(f\"output is {yhat} but we want it to be {y[i%len(y)]}, updating weights.\")\n",
    "        w=w-lr*X[i%len(y)] \n",
    "    else: \n",
    "        print(f\"output is {yhat}, which has the same sign as our target {y[i%len(y)]}, machine is correct, not updating weights.\")"
   ]
  },
  {
   "cell_type": "markdown",
   "id": "0d91fcee-2eec-476d-b733-c86b3bdfca90",
   "metadata": {},
   "source": [
    "## Example 4 - Two input perceptron - unsolvable XOR case. \n",
    "Replicates Results of Figure 1.10, Task 2"
   ]
  },
  {
   "cell_type": "code",
   "execution_count": 34,
   "id": "369656ff-2395-4d1c-bdf9-9f7a0d0dbcb3",
   "metadata": {},
   "outputs": [],
   "source": [
    "examples=np.array([[[-1,-1]],\n",
    "             [[-1,1]],\n",
    "             [[1,-1]],\n",
    "             [[1,1]]])\n",
    "\n",
    "y=np.array([-1,1,1,-1]) #we want our machine to output a + when either one but not both switches are one\n",
    "\n",
    "#Reshape each example into a row, and add a 3rd column for the bias term\n",
    "X=np.hstack((examples.reshape(-1, 2), np.ones((len(y),1)))) \n",
    "\n",
    "#Initialized weights to zeros, this is equivalent to turning each knob to 12 o'clock\n",
    "w = np.zeros(3)\n",
    "lr=1.0 #Learning rate"
   ]
  },
  {
   "cell_type": "code",
   "execution_count": 35,
   "id": "7e48d31a-aba0-4795-8cfc-5a45b2bec8fd",
   "metadata": {},
   "outputs": [
    {
     "name": "stdout",
     "output_type": "stream",
     "text": [
      "step: 1, current example: [-1.  1.], current weights = [0. 0. 0.]\n",
      "output is 0.0 but we want it to be 1, updating weights.\n",
      "step: 2, current example: [ 1. -1.], current weights = [-1.  1.  1.]\n",
      "output is -1.0 but we want it to be 1, updating weights.\n",
      "step: 3, current example: [1. 1.], current weights = [0. 0. 2.]\n",
      "output is 2.0 but we want it to be -1, updating weights.\n",
      "step: 4, current example: [-1. -1.], current weights = [-1. -1.  1.]\n",
      "output is 3.0 but we want it to be -1, updating weights.\n",
      "step: 5, current example: [-1.  1.], current weights = [0. 0. 0.]\n",
      "output is 0.0 but we want it to be 1, updating weights.\n",
      "step: 6, current example: [ 1. -1.], current weights = [-1.  1.  1.]\n",
      "output is -1.0 but we want it to be 1, updating weights.\n",
      "step: 7, current example: [1. 1.], current weights = [0. 0. 2.]\n",
      "output is 2.0 but we want it to be -1, updating weights.\n",
      "step: 8, current example: [-1. -1.], current weights = [-1. -1.  1.]\n",
      "output is 3.0 but we want it to be -1, updating weights.\n",
      "step: 9, current example: [-1.  1.], current weights = [0. 0. 0.]\n",
      "output is 0.0 but we want it to be 1, updating weights.\n",
      "step: 10, current example: [ 1. -1.], current weights = [-1.  1.  1.]\n",
      "output is -1.0 but we want it to be 1, updating weights.\n",
      "step: 11, current example: [1. 1.], current weights = [0. 0. 2.]\n",
      "output is 2.0 but we want it to be -1, updating weights.\n",
      "step: 12, current example: [-1. -1.], current weights = [-1. -1.  1.]\n",
      "output is 3.0 but we want it to be -1, updating weights.\n",
      "step: 13, current example: [-1.  1.], current weights = [0. 0. 0.]\n",
      "output is 0.0 but we want it to be 1, updating weights.\n"
     ]
    }
   ],
   "source": [
    "for i in range(1, 14): #Starting at index 1, we could also start at index 0, results are a little more clear this way.\n",
    "    yhat=np.dot(X[i%len(y)],w) \n",
    "    print(f\"step: {i}, current example: {X[i%len(y)][:2]}, current weights = {w}\")\n",
    "    if yhat<=0 and y[i%len(y)]>0: \n",
    "        print(f\"output is {yhat} but we want it to be {y[i%len(y)]}, updating weights.\")\n",
    "        w=w+lr*X[i%len(y)] \n",
    "    elif yhat>0 and y[i%len(y)]<=0: \n",
    "        print(f\"output is {yhat} but we want it to be {y[i%len(y)]}, updating weights.\")\n",
    "        w=w-lr*X[i%len(y)] \n",
    "    else: \n",
    "        print(f\"output is {yhat}, which has the same sign as our target {y[i%len(y)]}, machine is correct, not updating weights.\")"
   ]
  },
  {
   "cell_type": "markdown",
   "id": "dcc0065c-5e66-41aa-8461-072e1566a435",
   "metadata": {},
   "source": [
    "Note that our weights are stuck in a loop!"
   ]
  },
  {
   "cell_type": "code",
   "execution_count": null,
   "id": "f610248b-ab21-40b5-95f4-11e0e8ce114c",
   "metadata": {},
   "outputs": [],
   "source": []
  },
  {
   "cell_type": "code",
   "execution_count": null,
   "id": "270c4469-8947-4582-b024-548afd9d69dd",
   "metadata": {},
   "outputs": [],
   "source": []
  },
  {
   "cell_type": "code",
   "execution_count": null,
   "id": "9875de77-e770-4247-9e41-d9030e070462",
   "metadata": {},
   "outputs": [],
   "source": []
  },
  {
   "cell_type": "code",
   "execution_count": null,
   "id": "9831ad08-b2e6-46bd-8722-5b74644ace51",
   "metadata": {},
   "outputs": [],
   "source": []
  },
  {
   "cell_type": "code",
   "execution_count": null,
   "id": "c6c61a9a-7a2b-4467-b999-ee288794f887",
   "metadata": {},
   "outputs": [],
   "source": []
  }
 ],
 "metadata": {
  "kernelspec": {
   "display_name": "Python 3 (ipykernel)",
   "language": "python",
   "name": "python3"
  },
  "language_info": {
   "codemirror_mode": {
    "name": "ipython",
    "version": 3
   },
   "file_extension": ".py",
   "mimetype": "text/x-python",
   "name": "python",
   "nbconvert_exporter": "python",
   "pygments_lexer": "ipython3",
   "version": "3.11.7"
  }
 },
 "nbformat": 4,
 "nbformat_minor": 5
}
