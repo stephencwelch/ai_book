{
 "cells": [
  {
   "cell_type": "markdown",
   "id": "94b180a0-d9a6-4105-832f-b53f1e10680a",
   "metadata": {},
   "source": [
    "## Cats Vs Dogs Example"
   ]
  },
  {
   "cell_type": "code",
   "execution_count": 1,
   "id": "c1a44083-8863-4cf8-b56d-847bdb03e2d1",
   "metadata": {},
   "outputs": [],
   "source": [
    "import numpy as np\n",
    "import matplotlib.pyplot as plt\n",
    "from tqdm import tqdm\n",
    "import os\n",
    "import numpy as np\n",
    "from PIL import Image"
   ]
  },
  {
   "cell_type": "code",
   "execution_count": 2,
   "id": "7a61c417-3267-480d-b1b2-a3b96efd13a2",
   "metadata": {},
   "outputs": [],
   "source": [
    "num_examples=5000\n",
    "im_resolution=64"
   ]
  },
  {
   "cell_type": "code",
   "execution_count": 3,
   "id": "b034b6eb-d4e8-41c6-bcfc-5ac9f2487920",
   "metadata": {},
   "outputs": [],
   "source": [
    "def load_and_preprocess_data(data_dir, n_samples_per_class=250, im_resolution=20):\n",
    "    # Initialize empty array for data\n",
    "    X = np.zeros((n_samples_per_class*2, im_resolution**2))  # 500 samples, 400 features (20x20 pixels)\n",
    "    \n",
    "    # Process cats\n",
    "    cat_dir = os.path.join(data_dir, \"cat\")\n",
    "    cat_files = os.listdir(cat_dir)[:n_samples_per_class]\n",
    "    \n",
    "    for i, file_name in enumerate(cat_files):\n",
    "        # Load image\n",
    "        img_path = os.path.join(cat_dir, file_name)\n",
    "        img = Image.open(img_path)\n",
    "        \n",
    "        # Convert to grayscale\n",
    "        img_gray = img.convert('L')\n",
    "        \n",
    "        # Resize to im_resolution x im_resolution\n",
    "        img_resized = img_gray.resize((im_resolution, im_resolution), Image.Resampling.LANCZOS)\n",
    "        \n",
    "        # Convert to numpy array and flatten\n",
    "        img_array = np.array(img_resized).flatten()\n",
    "        \n",
    "        # Add to data matrix\n",
    "        X[i] = img_array\n",
    "        \n",
    "    # Process dogs\n",
    "    dog_dir = os.path.join(data_dir, \"dog\")\n",
    "    dog_files = os.listdir(dog_dir)[:n_samples_per_class]\n",
    "    \n",
    "    for i, file_name in enumerate(dog_files):\n",
    "        img_path = os.path.join(dog_dir, file_name)\n",
    "        img = Image.open(img_path)\n",
    "        img_gray = img.convert('L')\n",
    "        img_resized = img_gray.resize((im_resolution, im_resolution), Image.Resampling.LANCZOS)\n",
    "        img_array = np.array(img_resized).flatten()\n",
    "        X[i + n_samples_per_class] = img_array\n",
    "    \n",
    "    return X"
   ]
  },
  {
   "cell_type": "code",
   "execution_count": 4,
   "id": "0f5fe482-cd6e-470b-9a1f-8ee216298534",
   "metadata": {},
   "outputs": [
    {
     "ename": "NameError",
     "evalue": "name 'os' is not defined",
     "output_type": "error",
     "traceback": [
      "\u001b[0;31m---------------------------------------------------------------------------\u001b[0m",
      "\u001b[0;31mNameError\u001b[0m                                 Traceback (most recent call last)",
      "Cell \u001b[0;32mIn[4], line 5\u001b[0m\n\u001b[1;32m      1\u001b[0m \u001b[38;5;66;03m# Example usage\u001b[39;00m\n\u001b[1;32m      2\u001b[0m \u001b[38;5;66;03m# Animal faces dataset: https://www.kaggle.com/datasets/andrewmvd/animal-faces?resource=download\u001b[39;00m\n\u001b[1;32m      3\u001b[0m \u001b[38;5;66;03m# You will need to downoad manually and point to the downloaded folder here:\u001b[39;00m\n\u001b[1;32m      4\u001b[0m data_dir \u001b[38;5;241m=\u001b[39m \u001b[38;5;124m\"\u001b[39m\u001b[38;5;124m/Users/stephen/Stephencwelch Dropbox/welch_labs/ai_book/1_perceptron/code/afhq/train\u001b[39m\u001b[38;5;124m\"\u001b[39m\n\u001b[0;32m----> 5\u001b[0m X \u001b[38;5;241m=\u001b[39m load_and_preprocess_data(data_dir, n_samples_per_class\u001b[38;5;241m=\u001b[39mnum_examples\u001b[38;5;241m/\u001b[39m\u001b[38;5;241m/\u001b[39m\u001b[38;5;241m2\u001b[39m, im_resolution\u001b[38;5;241m=\u001b[39mim_resolution)\n",
      "Cell \u001b[0;32mIn[3], line 6\u001b[0m, in \u001b[0;36mload_and_preprocess_data\u001b[0;34m(data_dir, n_samples_per_class, im_resolution)\u001b[0m\n\u001b[1;32m      3\u001b[0m X \u001b[38;5;241m=\u001b[39m np\u001b[38;5;241m.\u001b[39mzeros((n_samples_per_class\u001b[38;5;241m*\u001b[39m\u001b[38;5;241m2\u001b[39m, im_resolution\u001b[38;5;241m*\u001b[39m\u001b[38;5;241m*\u001b[39m\u001b[38;5;241m2\u001b[39m))  \u001b[38;5;66;03m# 500 samples, 400 features (20x20 pixels)\u001b[39;00m\n\u001b[1;32m      5\u001b[0m \u001b[38;5;66;03m# Process cats\u001b[39;00m\n\u001b[0;32m----> 6\u001b[0m cat_dir \u001b[38;5;241m=\u001b[39m os\u001b[38;5;241m.\u001b[39mpath\u001b[38;5;241m.\u001b[39mjoin(data_dir, \u001b[38;5;124m\"\u001b[39m\u001b[38;5;124mcat\u001b[39m\u001b[38;5;124m\"\u001b[39m)\n\u001b[1;32m      7\u001b[0m cat_files \u001b[38;5;241m=\u001b[39m os\u001b[38;5;241m.\u001b[39mlistdir(cat_dir)[:n_samples_per_class]\n\u001b[1;32m      9\u001b[0m \u001b[38;5;28;01mfor\u001b[39;00m i, file_name \u001b[38;5;129;01min\u001b[39;00m \u001b[38;5;28menumerate\u001b[39m(cat_files):\n\u001b[1;32m     10\u001b[0m     \u001b[38;5;66;03m# Load image\u001b[39;00m\n",
      "\u001b[0;31mNameError\u001b[0m: name 'os' is not defined"
     ]
    }
   ],
   "source": [
    "# Example usage\n",
    "# Animal faces dataset: https://www.kaggle.com/datasets/andrewmvd/animal-faces?resource=download\n",
    "# You will need to downoad manually and point to the downloaded folder here:\n",
    "data_dir = \"/Users/stephen/Stephencwelch Dropbox/welch_labs/ai_book/1_perceptron/code/afhq/train\"\n",
    "X = load_and_preprocess_data(data_dir, n_samples_per_class=num_examples//2, im_resolution=im_resolution)"
   ]
  },
  {
   "cell_type": "code",
   "execution_count": null,
   "id": "0d418b68-57d4-4f86-b307-347ef106a643",
   "metadata": {},
   "outputs": [],
   "source": [
    "X.shape"
   ]
  },
  {
   "cell_type": "code",
   "execution_count": null,
   "id": "64f16e34-1ea0-42ea-b64c-4e342f015037",
   "metadata": {},
   "outputs": [],
   "source": [
    "#Make label vector, 0 for dog, 1 for cat. \n",
    "y = np.zeros((num_examples), dtype ='int')\n",
    "y[:num_examples//2] = 1"
   ]
  },
  {
   "cell_type": "code",
   "execution_count": null,
   "id": "518b47cb-1c8b-4ff8-9725-3f8b6fe1ecb4",
   "metadata": {},
   "outputs": [],
   "source": [
    "#Randomize X, y\n",
    "rand_vec = np.arange(num_examples)\n",
    "np.random.shuffle(rand_vec)\n",
    "X_shuffled, y_shuffled = X[rand_vec, :], y[rand_vec]"
   ]
  },
  {
   "cell_type": "code",
   "execution_count": null,
   "id": "c3531c89-ae2b-4e1e-8964-f8047338ebd5",
   "metadata": {},
   "outputs": [],
   "source": [
    "def neuron(x, w):\n",
    "    '''Simple McCulloch-Pitts Neuron model, x and w and are numpy arrays of the same shape'''\n",
    "    return np.dot(x, w) > 0\n",
    "\n",
    "def update_nueron(w, x, label):\n",
    "    '''\n",
    "    Update McCulloch + Pitts Nueron using Rosenblatt's Perceptron Algorithms\n",
    "    w = neuron weights, x = (n dimensional numpy array example), label = binary label\n",
    "    '''\n",
    "    is_correct = False\n",
    "    prediction=neuron(x, w)\n",
    "    if prediction == 0 and label == 1:\n",
    "        w = w + x\n",
    "    elif prediction == 1 and label == 0:\n",
    "        w = w - x\n",
    "    else:\n",
    "        is_correct = True\n",
    "    return w, is_correct, prediction\n",
    "\n",
    "X_shuffled = np.hstack((X_shuffled, np.ones((X_shuffled.shape[0], 1)))) #Pad data with ones. "
   ]
  },
  {
   "cell_type": "code",
   "execution_count": null,
   "id": "4f08111e-b331-4879-b306-77d7e25ea77a",
   "metadata": {},
   "outputs": [],
   "source": [
    "X_shuffled.shape, y_shuffled.shape"
   ]
  },
  {
   "cell_type": "code",
   "execution_count": null,
   "id": "07bbb229-bc99-4a34-8ff0-25353ac527e0",
   "metadata": {},
   "outputs": [],
   "source": [
    "# Your existing variables and computation\n",
    "iterations = 5000\n",
    "w = np.zeros(X_shuffled.shape[1])\n",
    "error_rates=[]\n",
    "\n",
    "for i in tqdm(range(iterations)):\n",
    "    x_current = X_shuffled[i % X_shuffled.shape[0], :]\n",
    "    y_current = y_shuffled[i % X_shuffled.shape[0]]\n",
    "    w, is_correct, prediction = update_nueron(w, x_current, y_current)\n",
    "    \n",
    "    num_correct=np.sum(((np.dot(X_shuffled, w)>0).astype('int')-y_shuffled)==0)\n",
    "    error_rate=(X_shuffled.shape[0]-num_correct)/X_shuffled.shape[0]\n",
    "    error_rates.append(error_rate)"
   ]
  },
  {
   "cell_type": "code",
   "execution_count": null,
   "id": "9c6d3c4b-3157-4cba-ab93-10c0c4f95eff",
   "metadata": {},
   "outputs": [],
   "source": [
    "plt.figure(0, (12,4))\n",
    "plt.plot(error_rates, alpha=0.5)\n",
    "plt.grid(1)\n",
    "plt.xlabel('Step'); plt.ylabel('Error Rate')"
   ]
  },
  {
   "cell_type": "code",
   "execution_count": null,
   "id": "87622256-95ea-44e9-a792-c8a0bacea075",
   "metadata": {},
   "outputs": [],
   "source": []
  }
 ],
 "metadata": {
  "kernelspec": {
   "display_name": "Python 3 (ipykernel)",
   "language": "python",
   "name": "python3"
  },
  "language_info": {
   "codemirror_mode": {
    "name": "ipython",
    "version": 3
   },
   "file_extension": ".py",
   "mimetype": "text/x-python",
   "name": "python",
   "nbconvert_exporter": "python",
   "pygments_lexer": "ipython3",
   "version": "3.11.7"
  }
 },
 "nbformat": 4,
 "nbformat_minor": 5
}
