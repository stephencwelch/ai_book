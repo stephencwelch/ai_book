{
 "cells": [
  {
   "cell_type": "code",
   "execution_count": 2,
   "id": "89306e89-3039-4d8b-bd93-a980ee91d558",
   "metadata": {},
   "outputs": [],
   "source": [
    "import numpy as np\n",
    "import torch\n",
    "import matplotlib.pyplot as plt"
   ]
  },
  {
   "cell_type": "code",
   "execution_count": null,
   "id": "919004c6-e7e3-4dcd-87c2-b0da57fa14c4",
   "metadata": {},
   "outputs": [],
   "source": []
  },
  {
   "cell_type": "markdown",
   "id": "94e753ab-cb14-4898-9407-dedc3c7a056c",
   "metadata": {},
   "source": [
    "## First European City Example"
   ]
  },
  {
   "cell_type": "code",
   "execution_count": 3,
   "id": "e1bd5061-2350-454a-842b-8852f2a98adf",
   "metadata": {},
   "outputs": [],
   "source": [
    "paris_coords = np.array([\n",
    "    [48.8575, 2.3514], #Center of Paris\n",
    "    [48.8584, 2.2945], # Eiffel Tower\n",
    "])\n",
    "\n",
    "berlin_coords = np.array([\n",
    "    [52.5200, 13.4050], # Center of Berlin\n",
    "    [52.5163, 13.3777],   # Brandenburg Gate \n",
    "])"
   ]
  },
  {
   "cell_type": "code",
   "execution_count": 12,
   "id": "ec9cce59-f8c1-486c-be11-1c6b03e517c9",
   "metadata": {},
   "outputs": [],
   "source": [
    "# Combine data into one matrix X and labels y\n",
    "X_raw = np.vstack([paris_coords, berlin_coords]) \n",
    "X=X_raw[:,1:] #Just grab longitude\n",
    "y = np.array([0, 0,  1, 1]) #Paris=0, Berlin=1"
   ]
  },
  {
   "cell_type": "code",
   "execution_count": 13,
   "id": "b365385e-6f71-4456-9f0d-8bda4f796b22",
   "metadata": {},
   "outputs": [
    {
     "data": {
      "text/plain": [
       "array([[ 2.3514],\n",
       "       [ 2.2945],\n",
       "       [13.405 ],\n",
       "       [13.3777]])"
      ]
     },
     "execution_count": 13,
     "metadata": {},
     "output_type": "execute_result"
    }
   ],
   "source": [
    "X"
   ]
  },
  {
   "cell_type": "code",
   "execution_count": 14,
   "id": "ad03e5d1-b56b-454d-932b-fae43b2773ce",
   "metadata": {},
   "outputs": [
    {
     "data": {
      "text/plain": [
       "array([0, 0, 1, 1])"
      ]
     },
     "execution_count": 14,
     "metadata": {},
     "output_type": "execute_result"
    }
   ],
   "source": [
    "y"
   ]
  },
  {
   "cell_type": "code",
   "execution_count": 18,
   "id": "03adc9a0-4e20-4f58-ac68-6098d816d817",
   "metadata": {},
   "outputs": [],
   "source": [
    "class TinyGPSModel(torch.nn.Module):\n",
    "    def __init__(self, input_size=1, output_size=2):\n",
    "        super(TinyGPSModel, self).__init__()\n",
    "        self.output = torch.nn.Linear(input_size, output_size) \n",
    "\n",
    "    def forward(self, x):\n",
    "        x = self.output(x)\n",
    "        return x"
   ]
  },
  {
   "cell_type": "code",
   "execution_count": 57,
   "id": "6a0fdf42-ee83-482a-ae1b-758bbd3dfa5c",
   "metadata": {},
   "outputs": [
    {
     "name": "stdout",
     "output_type": "stream",
     "text": [
      "Step 1/9, Loss: 4.7118, Accuracy: 0.5000\n",
      "Step 2/9, Loss: 3.3569, Accuracy: 0.5000\n",
      "Step 3/9, Loss: 0.0000, Accuracy: 0.5000\n",
      "Step 4/9, Loss: 0.0000, Accuracy: 0.5000\n",
      "Step 5/9, Loss: 2.2819, Accuracy: 0.5000\n",
      "Step 6/9, Loss: 1.2868, Accuracy: 0.5000\n",
      "Step 7/9, Loss: 0.0222, Accuracy: 0.5000\n",
      "Step 8/9, Loss: 0.0102, Accuracy: 0.5000\n",
      "Step 9/9, Loss: 0.8456, Accuracy: 1.0000\n"
     ]
    }
   ],
   "source": [
    "# Initialize model, loss, and optimizer\n",
    "model = TinyGPSModel()\n",
    "criterion = torch.nn.CrossEntropyLoss()\n",
    "optimizer = torch.optim.SGD(model.parameters(), lr=0.1)\n",
    "num_steps=9\n",
    "\n",
    "#Manually intialize model parameters\n",
    "with torch.no_grad():\n",
    "    model.output.weight[0,0]=-1.0\n",
    "    model.output.weight[1,0]=1.0\n",
    "    model.output.bias[0]=0.0\n",
    "    model.output.bias[1]=0.0\n",
    "\n",
    "weights=[]\n",
    "grads=[]\n",
    "xs=[]\n",
    "ys=[]\n",
    "logitss=[]\n",
    "yhats=[]\n",
    "losses=[]\n",
    "accuracies=[]\n",
    "\n",
    "# Training loop\n",
    "for i in range(num_steps):    \n",
    "    xs.append(X[i%len(y)])\n",
    "    ys.append(y[i%len(y)])\n",
    "    weights.append(np.concatenate([model.output.weight.detach().numpy().ravel(), model.output.bias.detach().numpy().ravel()]))\n",
    "    \n",
    "    optimizer.zero_grad()\n",
    "    outputs = model(torch.tensor(X[i%len(y)]).float())\n",
    "    loss = criterion(outputs, torch.tensor(y[i%len(y)])) \n",
    "\n",
    "    logitss.append(outputs.detach().numpy())\n",
    "    yhats.append(torch.nn.Softmax(0)(outputs.detach()).numpy())\n",
    "    \n",
    "    loss.backward()  # backpropagation\n",
    "    grads.append(np.concatenate([model.output.weight.grad.detach().numpy().ravel(), model.output.bias.grad.detach().numpy().ravel()]))\n",
    "    losses.append(loss.item())\n",
    "    optimizer.step() #\n",
    "    \n",
    "    with torch.no_grad():\n",
    "        logits=model(torch.tensor(X, dtype=torch.float)) \n",
    "        accuracy=(torch.argmax(logits, dim=1)==torch.tensor(y)).sum().item()/len(y)\n",
    "    print(f\"Step {i+1}/{num_steps}, Loss: {loss.item():.4f}, Accuracy: {accuracy:.4f}\")\n",
    "    accuracies.append(accuracy)\n",
    "\n",
    "weights=np.array(weights)\n",
    "grads=np.array(grads)\n",
    "xs=np.array(xs)\n",
    "ys=np.array(ys)\n",
    "logitss=np.array(logitss)\n",
    "yhats=np.array(yhats)\n",
    "losses=np.array(losses)\n",
    "accuracies=np.array(accuracies)"
   ]
  },
  {
   "cell_type": "code",
   "execution_count": 65,
   "id": "19d40c64-770d-424d-b012-a50738aecc6b",
   "metadata": {},
   "outputs": [],
   "source": [
    "import pandas as pd\n",
    "fn='/Users/stephen/Stephencwelch Dropbox/welch_labs/ai_book/3_backprop_2/exercise_run_1.csv'\n",
    "steps_to_show=[0, 1, 2, 3, 4, 5, 6, 7, 8]"
   ]
  },
  {
   "cell_type": "code",
   "execution_count": 66,
   "id": "ebf918c2-2aa7-4433-9eab-88b6da25c636",
   "metadata": {},
   "outputs": [],
   "source": [
    "df=pd.DataFrame([xs[steps_to_show, 0], \n",
    "                 weights[steps_to_show, 0], \n",
    "                 weights[steps_to_show, 1], \n",
    "                 grads[steps_to_show, 0], \n",
    "                 grads[steps_to_show, 1],\n",
    "                 weights[steps_to_show, 2], \n",
    "                 weights[steps_to_show, 3], \n",
    "                 grads[steps_to_show, 2], \n",
    "                 grads[steps_to_show, 3],\n",
    "                 logitss[steps_to_show, 0],\n",
    "                 logitss[steps_to_show, 1],\n",
    "                 yhats[steps_to_show, 0],\n",
    "                 yhats[steps_to_show, 1],\n",
    "                 ys[steps_to_show],\n",
    "                 losses[steps_to_show],\n",
    "                 accuracies[steps_to_show],\n",
    "                 ], \n",
    "                 columns=steps_to_show\n",
    "                 )"
   ]
  },
  {
   "cell_type": "code",
   "execution_count": 67,
   "id": "e78dc94f-7368-4f33-bf5a-4a7fc1ba5fbc",
   "metadata": {},
   "outputs": [
    {
     "data": {
      "text/html": [
       "<div>\n",
       "<style scoped>\n",
       "    .dataframe tbody tr th:only-of-type {\n",
       "        vertical-align: middle;\n",
       "    }\n",
       "\n",
       "    .dataframe tbody tr th {\n",
       "        vertical-align: top;\n",
       "    }\n",
       "\n",
       "    .dataframe thead th {\n",
       "        text-align: right;\n",
       "    }\n",
       "</style>\n",
       "<table border=\"1\" class=\"dataframe\">\n",
       "  <thead>\n",
       "    <tr style=\"text-align: right;\">\n",
       "      <th></th>\n",
       "      <th>0</th>\n",
       "      <th>1</th>\n",
       "      <th>2</th>\n",
       "      <th>3</th>\n",
       "      <th>4</th>\n",
       "      <th>5</th>\n",
       "      <th>6</th>\n",
       "      <th>7</th>\n",
       "      <th>8</th>\n",
       "    </tr>\n",
       "  </thead>\n",
       "  <tbody>\n",
       "    <tr>\n",
       "      <th>0</th>\n",
       "      <td>2.351400</td>\n",
       "      <td>2.294500</td>\n",
       "      <td>1.340500e+01</td>\n",
       "      <td>1.337770e+01</td>\n",
       "      <td>2.351400</td>\n",
       "      <td>2.294500</td>\n",
       "      <td>13.405000</td>\n",
       "      <td>13.377700</td>\n",
       "      <td>2.351400</td>\n",
       "    </tr>\n",
       "    <tr>\n",
       "      <th>1</th>\n",
       "      <td>-1.000000</td>\n",
       "      <td>-0.766973</td>\n",
       "      <td>-5.455182e-01</td>\n",
       "      <td>-5.455191e-01</td>\n",
       "      <td>-0.545520</td>\n",
       "      <td>-0.334385</td>\n",
       "      <td>-0.168296</td>\n",
       "      <td>-0.197730</td>\n",
       "      <td>-0.211321</td>\n",
       "    </tr>\n",
       "    <tr>\n",
       "      <th>2</th>\n",
       "      <td>1.000000</td>\n",
       "      <td>0.766973</td>\n",
       "      <td>5.455182e-01</td>\n",
       "      <td>5.455192e-01</td>\n",
       "      <td>0.545520</td>\n",
       "      <td>0.334385</td>\n",
       "      <td>0.168296</td>\n",
       "      <td>0.197731</td>\n",
       "      <td>0.211321</td>\n",
       "    </tr>\n",
       "    <tr>\n",
       "      <th>3</th>\n",
       "      <td>-2.330265</td>\n",
       "      <td>-2.214553</td>\n",
       "      <td>8.820050e-06</td>\n",
       "      <td>9.067977e-06</td>\n",
       "      <td>-2.111351</td>\n",
       "      <td>-1.660891</td>\n",
       "      <td>0.294345</td>\n",
       "      <td>0.135907</td>\n",
       "      <td>-1.341903</td>\n",
       "    </tr>\n",
       "    <tr>\n",
       "      <th>4</th>\n",
       "      <td>2.330265</td>\n",
       "      <td>2.214553</td>\n",
       "      <td>-9.588003e-06</td>\n",
       "      <td>-9.568476e-06</td>\n",
       "      <td>2.111350</td>\n",
       "      <td>1.660891</td>\n",
       "      <td>-0.294346</td>\n",
       "      <td>-0.135907</td>\n",
       "      <td>1.341903</td>\n",
       "    </tr>\n",
       "    <tr>\n",
       "      <th>5</th>\n",
       "      <td>0.000000</td>\n",
       "      <td>0.099101</td>\n",
       "      <td>1.956169e-01</td>\n",
       "      <td>1.956168e-01</td>\n",
       "      <td>0.195617</td>\n",
       "      <td>0.285408</td>\n",
       "      <td>0.357794</td>\n",
       "      <td>0.355598</td>\n",
       "      <td>0.354582</td>\n",
       "    </tr>\n",
       "    <tr>\n",
       "      <th>6</th>\n",
       "      <td>0.000000</td>\n",
       "      <td>-0.099101</td>\n",
       "      <td>-1.956169e-01</td>\n",
       "      <td>-1.956168e-01</td>\n",
       "      <td>-0.195617</td>\n",
       "      <td>-0.285408</td>\n",
       "      <td>-0.357794</td>\n",
       "      <td>-0.355598</td>\n",
       "      <td>-0.354582</td>\n",
       "    </tr>\n",
       "    <tr>\n",
       "      <th>7</th>\n",
       "      <td>-0.991012</td>\n",
       "      <td>-0.965157</td>\n",
       "      <td>6.579671e-07</td>\n",
       "      <td>6.778428e-07</td>\n",
       "      <td>-0.897912</td>\n",
       "      <td>-0.723857</td>\n",
       "      <td>0.021958</td>\n",
       "      <td>0.010159</td>\n",
       "      <td>-0.570683</td>\n",
       "    </tr>\n",
       "    <tr>\n",
       "      <th>8</th>\n",
       "      <td>0.991012</td>\n",
       "      <td>0.965157</td>\n",
       "      <td>-7.152557e-07</td>\n",
       "      <td>-7.152557e-07</td>\n",
       "      <td>0.897912</td>\n",
       "      <td>0.723857</td>\n",
       "      <td>-0.021958</td>\n",
       "      <td>-0.010159</td>\n",
       "      <td>0.570683</td>\n",
       "    </tr>\n",
       "    <tr>\n",
       "      <th>9</th>\n",
       "      <td>-2.351400</td>\n",
       "      <td>-1.660720</td>\n",
       "      <td>-7.117055e+00</td>\n",
       "      <td>-7.102174e+00</td>\n",
       "      <td>-1.087119</td>\n",
       "      <td>-0.481838</td>\n",
       "      <td>-1.898212</td>\n",
       "      <td>-2.289580</td>\n",
       "      <td>-0.142318</td>\n",
       "    </tr>\n",
       "    <tr>\n",
       "      <th>10</th>\n",
       "      <td>2.351400</td>\n",
       "      <td>1.660720</td>\n",
       "      <td>7.117055e+00</td>\n",
       "      <td>7.102175e+00</td>\n",
       "      <td>1.087119</td>\n",
       "      <td>0.481839</td>\n",
       "      <td>1.898214</td>\n",
       "      <td>2.289583</td>\n",
       "      <td>0.142319</td>\n",
       "    </tr>\n",
       "    <tr>\n",
       "      <th>11</th>\n",
       "      <td>0.008988</td>\n",
       "      <td>0.034843</td>\n",
       "      <td>6.579673e-07</td>\n",
       "      <td>6.778429e-07</td>\n",
       "      <td>0.102088</td>\n",
       "      <td>0.276143</td>\n",
       "      <td>0.021958</td>\n",
       "      <td>0.010159</td>\n",
       "      <td>0.429317</td>\n",
       "    </tr>\n",
       "    <tr>\n",
       "      <th>12</th>\n",
       "      <td>0.991012</td>\n",
       "      <td>0.965157</td>\n",
       "      <td>9.999993e-01</td>\n",
       "      <td>9.999993e-01</td>\n",
       "      <td>0.897912</td>\n",
       "      <td>0.723857</td>\n",
       "      <td>0.978042</td>\n",
       "      <td>0.989841</td>\n",
       "      <td>0.570683</td>\n",
       "    </tr>\n",
       "    <tr>\n",
       "      <th>13</th>\n",
       "      <td>0.000000</td>\n",
       "      <td>0.000000</td>\n",
       "      <td>1.000000e+00</td>\n",
       "      <td>1.000000e+00</td>\n",
       "      <td>0.000000</td>\n",
       "      <td>0.000000</td>\n",
       "      <td>1.000000</td>\n",
       "      <td>1.000000</td>\n",
       "      <td>0.000000</td>\n",
       "    </tr>\n",
       "    <tr>\n",
       "      <th>14</th>\n",
       "      <td>4.711829</td>\n",
       "      <td>3.356904</td>\n",
       "      <td>7.152555e-07</td>\n",
       "      <td>7.152555e-07</td>\n",
       "      <td>2.281921</td>\n",
       "      <td>1.286838</td>\n",
       "      <td>0.022203</td>\n",
       "      <td>0.010211</td>\n",
       "      <td>0.845559</td>\n",
       "    </tr>\n",
       "    <tr>\n",
       "      <th>15</th>\n",
       "      <td>0.500000</td>\n",
       "      <td>0.500000</td>\n",
       "      <td>5.000000e-01</td>\n",
       "      <td>5.000000e-01</td>\n",
       "      <td>0.500000</td>\n",
       "      <td>0.500000</td>\n",
       "      <td>0.500000</td>\n",
       "      <td>0.500000</td>\n",
       "      <td>1.000000</td>\n",
       "    </tr>\n",
       "  </tbody>\n",
       "</table>\n",
       "</div>"
      ],
      "text/plain": [
       "           0         1             2             3         4         5  \\\n",
       "0   2.351400  2.294500  1.340500e+01  1.337770e+01  2.351400  2.294500   \n",
       "1  -1.000000 -0.766973 -5.455182e-01 -5.455191e-01 -0.545520 -0.334385   \n",
       "2   1.000000  0.766973  5.455182e-01  5.455192e-01  0.545520  0.334385   \n",
       "3  -2.330265 -2.214553  8.820050e-06  9.067977e-06 -2.111351 -1.660891   \n",
       "4   2.330265  2.214553 -9.588003e-06 -9.568476e-06  2.111350  1.660891   \n",
       "5   0.000000  0.099101  1.956169e-01  1.956168e-01  0.195617  0.285408   \n",
       "6   0.000000 -0.099101 -1.956169e-01 -1.956168e-01 -0.195617 -0.285408   \n",
       "7  -0.991012 -0.965157  6.579671e-07  6.778428e-07 -0.897912 -0.723857   \n",
       "8   0.991012  0.965157 -7.152557e-07 -7.152557e-07  0.897912  0.723857   \n",
       "9  -2.351400 -1.660720 -7.117055e+00 -7.102174e+00 -1.087119 -0.481838   \n",
       "10  2.351400  1.660720  7.117055e+00  7.102175e+00  1.087119  0.481839   \n",
       "11  0.008988  0.034843  6.579673e-07  6.778429e-07  0.102088  0.276143   \n",
       "12  0.991012  0.965157  9.999993e-01  9.999993e-01  0.897912  0.723857   \n",
       "13  0.000000  0.000000  1.000000e+00  1.000000e+00  0.000000  0.000000   \n",
       "14  4.711829  3.356904  7.152555e-07  7.152555e-07  2.281921  1.286838   \n",
       "15  0.500000  0.500000  5.000000e-01  5.000000e-01  0.500000  0.500000   \n",
       "\n",
       "            6          7         8  \n",
       "0   13.405000  13.377700  2.351400  \n",
       "1   -0.168296  -0.197730 -0.211321  \n",
       "2    0.168296   0.197731  0.211321  \n",
       "3    0.294345   0.135907 -1.341903  \n",
       "4   -0.294346  -0.135907  1.341903  \n",
       "5    0.357794   0.355598  0.354582  \n",
       "6   -0.357794  -0.355598 -0.354582  \n",
       "7    0.021958   0.010159 -0.570683  \n",
       "8   -0.021958  -0.010159  0.570683  \n",
       "9   -1.898212  -2.289580 -0.142318  \n",
       "10   1.898214   2.289583  0.142319  \n",
       "11   0.021958   0.010159  0.429317  \n",
       "12   0.978042   0.989841  0.570683  \n",
       "13   1.000000   1.000000  0.000000  \n",
       "14   0.022203   0.010211  0.845559  \n",
       "15   0.500000   0.500000  1.000000  "
      ]
     },
     "execution_count": 67,
     "metadata": {},
     "output_type": "execute_result"
    }
   ],
   "source": [
    "df"
   ]
  },
  {
   "cell_type": "code",
   "execution_count": 69,
   "id": "950b2c08-ef53-4dbf-9947-fd1d9155dde4",
   "metadata": {},
   "outputs": [],
   "source": [
    "df.round(3).to_csv(fn)"
   ]
  },
  {
   "cell_type": "code",
   "execution_count": null,
   "id": "53016058-5db1-4f27-adac-24a3ebe9b3b7",
   "metadata": {},
   "outputs": [],
   "source": []
  },
  {
   "cell_type": "markdown",
   "id": "59143158-6bc2-4211-a6c8-aa49d5ae2cda",
   "metadata": {},
   "source": [
    "## Second Mini European City Example"
   ]
  },
  {
   "cell_type": "code",
   "execution_count": 89,
   "id": "f7c899bc-f91d-4a26-9c93-1132ad407e73",
   "metadata": {},
   "outputs": [],
   "source": [
    "paris_coords = np.array([\n",
    "    [48.8575, 2.3514], #Center of Paris\n",
    "    [48.8584, 2.2945], # Eiffel Tower\n",
    "])\n",
    "\n",
    "madrid_coords = np.array([\n",
    "    [40.4167, -3.7033],   # Center of Madrid\n",
    "    [40.4153, -3.6835],   # Retiro Park \n",
    "])"
   ]
  },
  {
   "cell_type": "code",
   "execution_count": 92,
   "id": "d81cb6a9-bbd3-4690-a6b4-daa2bf74cad7",
   "metadata": {},
   "outputs": [],
   "source": [
    "# Combine data into one matrix X and labels y\n",
    "X_raw = np.vstack([paris_coords, madrid_coords]) \n",
    "X=X_raw[:,1:]\n",
    "y = np.array([0, 0,  1, 1]) #Paris=0, Berlin=1"
   ]
  },
  {
   "cell_type": "code",
   "execution_count": 93,
   "id": "7557aa1f-cb89-4e27-b818-ee1517434f54",
   "metadata": {},
   "outputs": [
    {
     "data": {
      "text/plain": [
       "array([[ 2.3514],\n",
       "       [ 2.2945],\n",
       "       [-3.7033],\n",
       "       [-3.6835]])"
      ]
     },
     "execution_count": 93,
     "metadata": {},
     "output_type": "execute_result"
    }
   ],
   "source": [
    "X"
   ]
  },
  {
   "cell_type": "code",
   "execution_count": 94,
   "id": "7bb2b87c-c96b-4aca-884f-d9436ab22e04",
   "metadata": {},
   "outputs": [
    {
     "data": {
      "text/plain": [
       "array([0, 0, 1, 1])"
      ]
     },
     "execution_count": 94,
     "metadata": {},
     "output_type": "execute_result"
    }
   ],
   "source": [
    "y"
   ]
  },
  {
   "cell_type": "code",
   "execution_count": 95,
   "id": "2bcc39fc-f5cc-41e0-a761-b1bb37b08fcf",
   "metadata": {},
   "outputs": [],
   "source": [
    "class TinyGPSModel(torch.nn.Module):\n",
    "    def __init__(self, input_size=1, output_size=2):\n",
    "        super(TinyGPSModel, self).__init__()\n",
    "        self.output = torch.nn.Linear(input_size, output_size) \n",
    "\n",
    "    def forward(self, x):\n",
    "        x = self.output(x)\n",
    "        return x"
   ]
  },
  {
   "cell_type": "code",
   "execution_count": 103,
   "id": "9b140f4d-d7e6-4495-8cea-ba00f96f11ae",
   "metadata": {},
   "outputs": [
    {
     "name": "stdout",
     "output_type": "stream",
     "text": [
      "Step 1/4, Loss: 3.5561, Accuracy: 0.0000\n",
      "Step 2/4, Loss: 2.3044, Accuracy: 0.0000\n",
      "Step 3/4, Loss: 2.7722, Accuracy: 1.0000\n",
      "Step 4/4, Loss: 0.6685, Accuracy: 1.0000\n"
     ]
    }
   ],
   "source": [
    "# Initialize model, loss, and optimizer\n",
    "model = TinyGPSModel()\n",
    "criterion = torch.nn.CrossEntropyLoss()\n",
    "optimizer = torch.optim.SGD(model.parameters(), lr=0.1)\n",
    "num_steps=4\n",
    "\n",
    "#Manually intialize model parameters\n",
    "with torch.no_grad():\n",
    "    model.output.weight[0,0]=-1.0\n",
    "    model.output.weight[1,0]=0.5\n",
    "    model.output.bias[0]=0.0\n",
    "    model.output.bias[1]=0.0\n",
    "\n",
    "weights=[]\n",
    "grads=[]\n",
    "xs=[]\n",
    "ys=[]\n",
    "logitss=[]\n",
    "yhats=[]\n",
    "losses=[]\n",
    "accuracies=[]\n",
    "\n",
    "# Training loop\n",
    "for i in range(num_steps):    \n",
    "    xs.append(X[i%len(y)])\n",
    "    ys.append(y[i%len(y)])\n",
    "    weights.append(np.concatenate([model.output.weight.detach().numpy().ravel(), model.output.bias.detach().numpy().ravel()]))\n",
    "    \n",
    "    optimizer.zero_grad()\n",
    "    outputs = model(torch.tensor(X[i%len(y)]).float())\n",
    "    loss = criterion(outputs, torch.tensor(y[i%len(y)])) \n",
    "\n",
    "    logitss.append(outputs.detach().numpy())\n",
    "    yhats.append(torch.nn.Softmax(0)(outputs.detach()).numpy())\n",
    "    \n",
    "    loss.backward()  # backpropagation\n",
    "    grads.append(np.concatenate([model.output.weight.grad.detach().numpy().ravel(), model.output.bias.grad.detach().numpy().ravel()]))\n",
    "    losses.append(loss.item())\n",
    "    optimizer.step() #\n",
    "    \n",
    "    with torch.no_grad():\n",
    "        logits=model(torch.tensor(X, dtype=torch.float)) \n",
    "        accuracy=(torch.argmax(logits, dim=1)==torch.tensor(y)).sum().item()/len(y)\n",
    "    print(f\"Step {i+1}/{num_steps}, Loss: {loss.item():.4f}, Accuracy: {accuracy:.4f}\")\n",
    "    accuracies.append(accuracy)\n",
    "\n",
    "weights=np.array(weights)\n",
    "grads=np.array(grads)\n",
    "xs=np.array(xs)\n",
    "ys=np.array(ys)\n",
    "logitss=np.array(logitss)\n",
    "yhats=np.array(yhats)\n",
    "losses=np.array(losses)\n",
    "accuracies=np.array(accuracies)"
   ]
  },
  {
   "cell_type": "code",
   "execution_count": 107,
   "id": "8ddda7c6-719a-48ab-92e6-b45c695e9d34",
   "metadata": {},
   "outputs": [],
   "source": [
    "import pandas as pd\n",
    "fn='/Users/stephen/Stephencwelch Dropbox/welch_labs/ai_book/3_backprop_2/exercise_run_2.csv'\n",
    "steps_to_show=[0, 1, 2]"
   ]
  },
  {
   "cell_type": "code",
   "execution_count": 108,
   "id": "7902ff5f-a7dd-4909-aa63-8b5ee6ab641f",
   "metadata": {},
   "outputs": [],
   "source": [
    "df=pd.DataFrame([xs[steps_to_show, 0], \n",
    "                 weights[steps_to_show, 0], \n",
    "                 weights[steps_to_show, 1], \n",
    "                 grads[steps_to_show, 0], \n",
    "                 grads[steps_to_show, 1],\n",
    "                 weights[steps_to_show, 2], \n",
    "                 weights[steps_to_show, 3], \n",
    "                 grads[steps_to_show, 2], \n",
    "                 grads[steps_to_show, 3],\n",
    "                 logitss[steps_to_show, 0],\n",
    "                 logitss[steps_to_show, 1],\n",
    "                 yhats[steps_to_show, 0],\n",
    "                 yhats[steps_to_show, 1],\n",
    "                 ys[steps_to_show],\n",
    "                 losses[steps_to_show],\n",
    "                 accuracies[steps_to_show],\n",
    "                 ], \n",
    "                 columns=steps_to_show\n",
    "                 )"
   ]
  },
  {
   "cell_type": "code",
   "execution_count": 109,
   "id": "2e1b5f87-ef75-455e-a58f-46702bc63aa3",
   "metadata": {},
   "outputs": [],
   "source": [
    "df.round(3).to_csv(fn)"
   ]
  },
  {
   "cell_type": "code",
   "execution_count": null,
   "id": "6d453562-f400-43fb-8761-ee47b1f88cb7",
   "metadata": {},
   "outputs": [],
   "source": []
  },
  {
   "cell_type": "markdown",
   "id": "f4deeab3-61db-4487-88fe-e8b586f4f023",
   "metadata": {},
   "source": [
    "## Linear Regression w/ MSE"
   ]
  },
  {
   "cell_type": "code",
   "execution_count": 110,
   "id": "392fdf22-2707-4522-b792-f167bafa5e13",
   "metadata": {},
   "outputs": [],
   "source": [
    "import torch\n",
    "import torch.nn as nn\n",
    "import matplotlib.pyplot as plt"
   ]
  },
  {
   "cell_type": "code",
   "execution_count": 183,
   "id": "aff50dc3-ba7e-47cb-bd49-029b6301989a",
   "metadata": {},
   "outputs": [],
   "source": [
    "# Create toy dataset: 4 points that follow y = 2x + 1\n",
    "X = torch.tensor([[1.0], [2.0], [3.0], [4.0]], requires_grad=False)\n",
    "y = torch.tensor([[3.0], [5.0], [7.0], [9.0]], requires_grad=False)"
   ]
  },
  {
   "cell_type": "code",
   "execution_count": 184,
   "id": "a711ea01-963b-4b69-8046-f7c0f209a299",
   "metadata": {},
   "outputs": [
    {
     "data": {
      "text/plain": [
       "tensor([[1.],\n",
       "        [2.],\n",
       "        [3.],\n",
       "        [4.]])"
      ]
     },
     "execution_count": 184,
     "metadata": {},
     "output_type": "execute_result"
    }
   ],
   "source": [
    "X"
   ]
  },
  {
   "cell_type": "code",
   "execution_count": 185,
   "id": "8c55bf08-a80d-4497-b46a-1a94caa74841",
   "metadata": {},
   "outputs": [
    {
     "data": {
      "text/plain": [
       "tensor([[3.],\n",
       "        [5.],\n",
       "        [7.],\n",
       "        [9.]])"
      ]
     },
     "execution_count": 185,
     "metadata": {},
     "output_type": "execute_result"
    }
   ],
   "source": [
    "y"
   ]
  },
  {
   "cell_type": "code",
   "execution_count": 186,
   "id": "a6a7f3b3-4e87-4a9e-9375-cc097edc7465",
   "metadata": {},
   "outputs": [],
   "source": [
    "# Define the linear model y = mx + b\n",
    "class LinearRegression(nn.Module):\n",
    "    def __init__(self):\n",
    "        super(LinearRegression, self).__init__()\n",
    "        self.linear = nn.Linear(1, 1)  # 1 input, 1 output\n",
    "    \n",
    "    def forward(self, x):\n",
    "        return self.linear(x)\n"
   ]
  },
  {
   "cell_type": "code",
   "execution_count": 196,
   "id": "965f162b-7e7a-4eb9-a661-0d15286a96f2",
   "metadata": {
    "scrolled": true
   },
   "outputs": [
    {
     "name": "stdout",
     "output_type": "stream",
     "text": [
      "Epoch [1/8], Loss: 4.000000\n",
      "Epoch [2/8], Loss: 3.240000\n",
      "Epoch [3/8], Loss: 0.014400\n",
      "Epoch [4/8], Loss: 0.005184\n",
      "Epoch [5/8], Loss: 0.020736\n",
      "Epoch [6/8], Loss: 0.002304\n",
      "Epoch [7/8], Loss: 0.013271\n",
      "Epoch [8/8], Loss: 0.004777\n"
     ]
    }
   ],
   "source": [
    "# Initialize model, loss function, and optimizer\n",
    "model = LinearRegression()\n",
    "\n",
    "with torch.no_grad():\n",
    "    model.linear.weight[0,0]=1.0\n",
    "    model.linear.bias[0]=0.0\n",
    "\n",
    "criterion = nn.MSELoss()  # Mean Squared Error\n",
    "optimizer = torch.optim.SGD(model.parameters(), lr=0.1)\n",
    "num_steps = 8\n",
    "\n",
    "weights=[]\n",
    "grads=[]\n",
    "xs=[]\n",
    "ys=[]\n",
    "yhats=[]\n",
    "losses=[]\n",
    "\n",
    "for i in range(num_steps):\n",
    "    xs.append(X[i%len(y)])\n",
    "    ys.append(y[i%len(y)])\n",
    "    weights.append(np.concatenate([model.linear.weight.detach().numpy().ravel(), model.linear.bias.detach().numpy().ravel()]))\n",
    "    \n",
    "    # Forward pass\n",
    "    y_pred = model(X[i%len(y)])\n",
    "    loss = criterion(y_pred, y[i%len(y)])\n",
    "\n",
    "    yhats.append(y_pred.detach().numpy())\n",
    "    \n",
    "    # Backward pass and optimization\n",
    "    optimizer.zero_grad()\n",
    "    loss.backward()\n",
    "    grads.append(np.concatenate([model.linear.weight.grad.detach().numpy().ravel(), model.linear.bias.grad.detach().numpy().ravel()]))\n",
    "    losses.append(loss.item())\n",
    "    optimizer.step()\n",
    "\n",
    "    print(f\"Epoch [{i+1}/{num_steps}], Loss: {loss.item():.6f}\")\n",
    "\n",
    "weights=np.array(weights)\n",
    "grads=np.array(grads)\n",
    "xs=np.array(xs)\n",
    "ys=np.array(ys)\n",
    "yhats=np.array(yhats)\n",
    "losses=np.array(losses)"
   ]
  },
  {
   "cell_type": "code",
   "execution_count": 197,
   "id": "94723f5c-72d5-4efc-8b34-aa78907c85c1",
   "metadata": {},
   "outputs": [
    {
     "data": {
      "text/plain": [
       "array([[1.        , 0.        ],\n",
       "       [1.4       , 0.4       ],\n",
       "       [2.12      , 0.76      ],\n",
       "       [2.0479999 , 0.736     ],\n",
       "       [2.1056004 , 0.7504001 ],\n",
       "       [2.1344004 , 0.7792    ],\n",
       "       [2.1152    , 0.76959985],\n",
       "       [2.04608   , 0.74655986]], dtype=float32)"
      ]
     },
     "execution_count": 197,
     "metadata": {},
     "output_type": "execute_result"
    }
   ],
   "source": [
    "weights"
   ]
  },
  {
   "cell_type": "code",
   "execution_count": 198,
   "id": "e42fbe48-a6bd-4947-b8b5-60d91a8fdce7",
   "metadata": {},
   "outputs": [],
   "source": [
    "import pandas as pd\n",
    "fn='/Users/stephen/Stephencwelch Dropbox/welch_labs/ai_book/3_backprop_2/exercise_run_3.csv'\n",
    "steps_to_show=[0, 1, 2, 3, 4, 5, 6, 7]"
   ]
  },
  {
   "cell_type": "code",
   "execution_count": 205,
   "id": "88b2a21d-7532-4ad2-8ee9-fcaceea6dbd1",
   "metadata": {},
   "outputs": [],
   "source": [
    "df=pd.DataFrame([xs[steps_to_show, 0], \n",
    "                 weights[steps_to_show, 0], \n",
    "                 grads[steps_to_show, 0], \n",
    "                 weights[steps_to_show, 1], \n",
    "                 grads[steps_to_show, 1], \n",
    "                 yhats[steps_to_show, 0],\n",
    "                 ys[steps_to_show].ravel(),\n",
    "                 losses[steps_to_show],\n",
    "                 ], \n",
    "                 columns=steps_to_show\n",
    "                 )"
   ]
  },
  {
   "cell_type": "code",
   "execution_count": 206,
   "id": "66d43e17-83dd-4dc3-a948-0169870198bb",
   "metadata": {},
   "outputs": [
    {
     "data": {
      "text/html": [
       "<div>\n",
       "<style scoped>\n",
       "    .dataframe tbody tr th:only-of-type {\n",
       "        vertical-align: middle;\n",
       "    }\n",
       "\n",
       "    .dataframe tbody tr th {\n",
       "        vertical-align: top;\n",
       "    }\n",
       "\n",
       "    .dataframe thead th {\n",
       "        text-align: right;\n",
       "    }\n",
       "</style>\n",
       "<table border=\"1\" class=\"dataframe\">\n",
       "  <thead>\n",
       "    <tr style=\"text-align: right;\">\n",
       "      <th></th>\n",
       "      <th>0</th>\n",
       "      <th>1</th>\n",
       "      <th>2</th>\n",
       "      <th>3</th>\n",
       "      <th>4</th>\n",
       "      <th>5</th>\n",
       "      <th>6</th>\n",
       "      <th>7</th>\n",
       "    </tr>\n",
       "  </thead>\n",
       "  <tbody>\n",
       "    <tr>\n",
       "      <th>0</th>\n",
       "      <td>1.0</td>\n",
       "      <td>2.00</td>\n",
       "      <td>3.000000</td>\n",
       "      <td>4.000000</td>\n",
       "      <td>1.000000</td>\n",
       "      <td>2.000000</td>\n",
       "      <td>3.000000</td>\n",
       "      <td>4.000000</td>\n",
       "    </tr>\n",
       "    <tr>\n",
       "      <th>1</th>\n",
       "      <td>1.0</td>\n",
       "      <td>1.40</td>\n",
       "      <td>2.120000</td>\n",
       "      <td>2.048000</td>\n",
       "      <td>2.105600</td>\n",
       "      <td>2.134400</td>\n",
       "      <td>2.115200</td>\n",
       "      <td>2.046080</td>\n",
       "    </tr>\n",
       "    <tr>\n",
       "      <th>2</th>\n",
       "      <td>-4.0</td>\n",
       "      <td>-7.20</td>\n",
       "      <td>0.719999</td>\n",
       "      <td>-0.576004</td>\n",
       "      <td>-0.287999</td>\n",
       "      <td>0.192003</td>\n",
       "      <td>0.691200</td>\n",
       "      <td>-0.552956</td>\n",
       "    </tr>\n",
       "    <tr>\n",
       "      <th>3</th>\n",
       "      <td>0.0</td>\n",
       "      <td>0.40</td>\n",
       "      <td>0.760000</td>\n",
       "      <td>0.736000</td>\n",
       "      <td>0.750400</td>\n",
       "      <td>0.779200</td>\n",
       "      <td>0.769600</td>\n",
       "      <td>0.746560</td>\n",
       "    </tr>\n",
       "    <tr>\n",
       "      <th>4</th>\n",
       "      <td>-4.0</td>\n",
       "      <td>-3.60</td>\n",
       "      <td>0.240000</td>\n",
       "      <td>-0.144001</td>\n",
       "      <td>-0.287999</td>\n",
       "      <td>0.096002</td>\n",
       "      <td>0.230400</td>\n",
       "      <td>-0.138239</td>\n",
       "    </tr>\n",
       "    <tr>\n",
       "      <th>5</th>\n",
       "      <td>1.0</td>\n",
       "      <td>3.20</td>\n",
       "      <td>7.120000</td>\n",
       "      <td>8.927999</td>\n",
       "      <td>2.856000</td>\n",
       "      <td>5.048001</td>\n",
       "      <td>7.115200</td>\n",
       "      <td>8.930881</td>\n",
       "    </tr>\n",
       "    <tr>\n",
       "      <th>6</th>\n",
       "      <td>3.0</td>\n",
       "      <td>5.00</td>\n",
       "      <td>7.000000</td>\n",
       "      <td>9.000000</td>\n",
       "      <td>3.000000</td>\n",
       "      <td>5.000000</td>\n",
       "      <td>7.000000</td>\n",
       "      <td>9.000000</td>\n",
       "    </tr>\n",
       "    <tr>\n",
       "      <th>7</th>\n",
       "      <td>4.0</td>\n",
       "      <td>3.24</td>\n",
       "      <td>0.014400</td>\n",
       "      <td>0.005184</td>\n",
       "      <td>0.020736</td>\n",
       "      <td>0.002304</td>\n",
       "      <td>0.013271</td>\n",
       "      <td>0.004777</td>\n",
       "    </tr>\n",
       "  </tbody>\n",
       "</table>\n",
       "</div>"
      ],
      "text/plain": [
       "     0     1         2         3         4         5         6         7\n",
       "0  1.0  2.00  3.000000  4.000000  1.000000  2.000000  3.000000  4.000000\n",
       "1  1.0  1.40  2.120000  2.048000  2.105600  2.134400  2.115200  2.046080\n",
       "2 -4.0 -7.20  0.719999 -0.576004 -0.287999  0.192003  0.691200 -0.552956\n",
       "3  0.0  0.40  0.760000  0.736000  0.750400  0.779200  0.769600  0.746560\n",
       "4 -4.0 -3.60  0.240000 -0.144001 -0.287999  0.096002  0.230400 -0.138239\n",
       "5  1.0  3.20  7.120000  8.927999  2.856000  5.048001  7.115200  8.930881\n",
       "6  3.0  5.00  7.000000  9.000000  3.000000  5.000000  7.000000  9.000000\n",
       "7  4.0  3.24  0.014400  0.005184  0.020736  0.002304  0.013271  0.004777"
      ]
     },
     "execution_count": 206,
     "metadata": {},
     "output_type": "execute_result"
    }
   ],
   "source": [
    "df"
   ]
  },
  {
   "cell_type": "code",
   "execution_count": 207,
   "id": "ac9b26ae-ea2a-4731-8ed4-ea45063b7e58",
   "metadata": {},
   "outputs": [],
   "source": [
    "df.round(3).to_csv(fn)"
   ]
  },
  {
   "cell_type": "code",
   "execution_count": 208,
   "id": "6d1618cb-15bd-4caa-b09e-bd651bb0eff5",
   "metadata": {},
   "outputs": [
    {
     "data": {
      "text/plain": [
       "array([[1.        , 0.        ],\n",
       "       [1.4       , 0.4       ],\n",
       "       [2.12      , 0.76      ],\n",
       "       [2.0479999 , 0.736     ],\n",
       "       [2.1056004 , 0.7504001 ],\n",
       "       [2.1344004 , 0.7792    ],\n",
       "       [2.1152    , 0.76959985],\n",
       "       [2.04608   , 0.74655986]], dtype=float32)"
      ]
     },
     "execution_count": 208,
     "metadata": {},
     "output_type": "execute_result"
    }
   ],
   "source": [
    "weights"
   ]
  },
  {
   "cell_type": "code",
   "execution_count": null,
   "id": "77235e8a-46ce-472c-9da3-cd1580a5f6e6",
   "metadata": {},
   "outputs": [],
   "source": []
  },
  {
   "cell_type": "code",
   "execution_count": null,
   "id": "b51c1f22-3b51-4074-becb-e8f4ed9eb22a",
   "metadata": {},
   "outputs": [],
   "source": []
  },
  {
   "cell_type": "code",
   "execution_count": null,
   "id": "a5891146-1023-4528-b8ab-1162a96b9b49",
   "metadata": {},
   "outputs": [],
   "source": []
  },
  {
   "cell_type": "markdown",
   "id": "3a523e86-f405-4485-b36b-b67974a0b558",
   "metadata": {},
   "source": [
    "## Linear Regression with MAE"
   ]
  },
  {
   "cell_type": "code",
   "execution_count": null,
   "id": "624380e2-4c19-4f5c-9946-7360133a8145",
   "metadata": {},
   "outputs": [],
   "source": [
    "import torch\n",
    "import torch.nn as nn\n",
    "import matplotlib.pyplot as plt"
   ]
  },
  {
   "cell_type": "code",
   "execution_count": 210,
   "id": "d0814133-f553-43b6-8896-5d6d58f1b9bf",
   "metadata": {},
   "outputs": [],
   "source": [
    "# Create toy dataset: 4 points that follow y = 2x + 1\n",
    "X = torch.tensor([[1.0], [2.0], [3.0], [4.0]], requires_grad=False)\n",
    "y = torch.tensor([[3.0], [5.0], [7.0], [9.0]], requires_grad=False)"
   ]
  },
  {
   "cell_type": "code",
   "execution_count": 221,
   "id": "d2a75fc0-1b44-4ac1-81e1-2e718e5dcfd5",
   "metadata": {},
   "outputs": [
    {
     "name": "stdout",
     "output_type": "stream",
     "text": [
      "Epoch [1/8], Loss: 2.000000\n",
      "Epoch [2/8], Loss: 2.700000\n",
      "Epoch [3/8], Loss: 2.900000\n",
      "Epoch [4/8], Loss: 2.300000\n",
      "Epoch [5/8], Loss: 0.600000\n",
      "Epoch [6/8], Loss: 0.300000\n",
      "Epoch [7/8], Loss: 0.500000\n",
      "Epoch [8/8], Loss: 0.500000\n"
     ]
    }
   ],
   "source": [
    "# Initialize model, loss function, and optimizer\n",
    "model = LinearRegression()\n",
    "\n",
    "with torch.no_grad():\n",
    "    model.linear.weight[0,0]=1.0\n",
    "    model.linear.bias[0]=0.0\n",
    "\n",
    "criterion = nn.L1Loss()  # Mean Squared Error\n",
    "optimizer = torch.optim.SGD(model.parameters(), lr=0.1)\n",
    "num_steps = 8\n",
    "\n",
    "weights=[]\n",
    "grads=[]\n",
    "xs=[]\n",
    "ys=[]\n",
    "yhats=[]\n",
    "losses=[]\n",
    "\n",
    "for i in range(num_steps):\n",
    "    xs.append(X[i%len(y)])\n",
    "    ys.append(y[i%len(y)])\n",
    "    weights.append(np.concatenate([model.linear.weight.detach().numpy().ravel(), model.linear.bias.detach().numpy().ravel()]))\n",
    "    \n",
    "    # Forward pass\n",
    "    y_pred = model(X[i%len(y)])\n",
    "    loss = criterion(y_pred, y[i%len(y)])\n",
    "\n",
    "    yhats.append(y_pred.detach().numpy())\n",
    "    \n",
    "    # Backward pass and optimization\n",
    "    optimizer.zero_grad()\n",
    "    loss.backward()\n",
    "    grads.append(np.concatenate([model.linear.weight.grad.detach().numpy().ravel(), model.linear.bias.grad.detach().numpy().ravel()]))\n",
    "    losses.append(loss.item())\n",
    "    optimizer.step()\n",
    "\n",
    "    print(f\"Epoch [{i+1}/{num_steps}], Loss: {loss.item():.6f}\")\n",
    "\n",
    "weights=np.array(weights)\n",
    "grads=np.array(grads)\n",
    "xs=np.array(xs)\n",
    "ys=np.array(ys)\n",
    "yhats=np.array(yhats)\n",
    "losses=np.array(losses)"
   ]
  },
  {
   "cell_type": "code",
   "execution_count": 222,
   "id": "1026e2c5-73ec-4542-aceb-3a05f08719e9",
   "metadata": {},
   "outputs": [
    {
     "data": {
      "text/plain": [
       "array([[1.       , 0.       ],\n",
       "       [1.1      , 0.1      ],\n",
       "       [1.3000001, 0.2      ],\n",
       "       [1.6      , 0.3      ],\n",
       "       [2.       , 0.4      ],\n",
       "       [2.1      , 0.5      ],\n",
       "       [2.3      , 0.6      ],\n",
       "       [2.       , 0.5      ]], dtype=float32)"
      ]
     },
     "execution_count": 222,
     "metadata": {},
     "output_type": "execute_result"
    }
   ],
   "source": [
    "weights"
   ]
  },
  {
   "cell_type": "code",
   "execution_count": 223,
   "id": "85c9c9bc-9ee1-4dd2-b8e6-98eee2d00dbf",
   "metadata": {},
   "outputs": [],
   "source": [
    "import pandas as pd\n",
    "fn='/Users/stephen/Stephencwelch Dropbox/welch_labs/ai_book/3_backprop_2/exercise_run_4.csv'\n",
    "steps_to_show=[0, 1, 2, 3, 4, 5, 6, 7]"
   ]
  },
  {
   "cell_type": "code",
   "execution_count": 224,
   "id": "16e0aa76-66c5-49a2-8f81-d3af99253cd2",
   "metadata": {},
   "outputs": [],
   "source": [
    "df=pd.DataFrame([xs[steps_to_show, 0], \n",
    "                 weights[steps_to_show, 0], \n",
    "                 grads[steps_to_show, 0], \n",
    "                 weights[steps_to_show, 1], \n",
    "                 grads[steps_to_show, 1], \n",
    "                 yhats[steps_to_show, 0],\n",
    "                 ys[steps_to_show].ravel(),\n",
    "                 losses[steps_to_show],\n",
    "                 ], \n",
    "                 columns=steps_to_show\n",
    "                 )"
   ]
  },
  {
   "cell_type": "code",
   "execution_count": 225,
   "id": "6c33ef8f-52ca-4648-a902-15deec8278e5",
   "metadata": {},
   "outputs": [],
   "source": [
    "df.round(3).to_csv(fn)"
   ]
  },
  {
   "cell_type": "code",
   "execution_count": null,
   "id": "dac71bde-b4cc-4725-85b4-c1621ac7efa7",
   "metadata": {},
   "outputs": [],
   "source": []
  },
  {
   "cell_type": "code",
   "execution_count": null,
   "id": "677789ca-e859-4759-bba6-b23a3bec3027",
   "metadata": {},
   "outputs": [],
   "source": []
  },
  {
   "cell_type": "code",
   "execution_count": null,
   "id": "6b99378e-ebbd-4b66-ba48-2ef97c477fbc",
   "metadata": {},
   "outputs": [],
   "source": []
  }
 ],
 "metadata": {
  "kernelspec": {
   "display_name": "Python 3 (ipykernel)",
   "language": "python",
   "name": "python3"
  },
  "language_info": {
   "codemirror_mode": {
    "name": "ipython",
    "version": 3
   },
   "file_extension": ".py",
   "mimetype": "text/x-python",
   "name": "python",
   "nbconvert_exporter": "python",
   "pygments_lexer": "ipython3",
   "version": "3.11.7"
  }
 },
 "nbformat": 4,
 "nbformat_minor": 5
}
